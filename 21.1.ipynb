{
 "cells": [
  {
   "cell_type": "code",
   "execution_count": 11,
   "metadata": {},
   "outputs": [
    {
     "name": "stderr",
     "output_type": "stream",
     "text": [
      "E:\\anaconda\\lib\\site-packages\\bs4\\__init__.py:181: UserWarning: No parser was explicitly specified, so I'm using the best available HTML parser for this system (\"lxml\"). This usually isn't a problem, but if you run this code on another system, or in a different virtual environment, it may use a different parser and behave differently.\n",
      "\n",
      "The code that caused this warning is on line 193 of the file E:\\anaconda\\lib\\runpy.py. To get rid of this warning, change code that looks like this:\n",
      "\n",
      " BeautifulSoup(YOUR_MARKUP})\n",
      "\n",
      "to this:\n",
      "\n",
      " BeautifulSoup(YOUR_MARKUP, \"lxml\")\n",
      "\n",
      "  markup_type=markup_type))\n"
     ]
    }
   ],
   "source": [
    "import requests\n",
    "from bs4 import BeautifulSoup\n",
    "from collections import Counter\n",
    "from string import punctuation\n",
    "\n",
    "r = requests.get(\"http://php.net/\")\n",
    "\n",
    "soup = BeautifulSoup(r.content)\n",
    "\n",
    "text = (''.join(s.findAll(text=True))for s in soup.findAll('p'))\n",
    "\n",
    "c = Counter((x.rstrip(punctuation).lower() for y in text for x in y.split()))\n"
   ]
  },
  {
   "cell_type": "code",
   "execution_count": 12,
   "metadata": {},
   "outputs": [
    {
     "name": "stdout",
     "output_type": "stream",
     "text": [
      "[('the', 95), ('php', 56), ('of', 53), ('this', 36), ('release', 35), ('for', 32), ('and', 31), ('in', 29), ('is', 27), ('can', 27), ('to', 24), ('on', 24), ('be', 23), ('a', 19), ('source', 19), ('downloads', 19), ('development', 18), ('found', 17), ('list', 17), ('you', 15), ('7.2.0', 14), ('team', 12), ('announces', 12), ('immediate', 12), ('availability', 12), ('security', 12), ('all', 12), ('users', 12), ('are', 12), ('encouraged', 12), ('version', 12), ('please', 12), ('visit', 12), ('our', 12), ('page', 12), ('windows', 12), ('binaries', 12), ('changes', 12), ('candidate', 11), ('bugs', 10), ('read', 10), ('file', 10), ('upgrading', 10), ('also', 10), ('bug', 8), ('upgrade', 7), ('windows.php.net/download', 7), ('recorded', 7), ('changelog', 7), ('fixed', 6), ('several', 6), ('releases', 6), ('will', 6), ('it', 6), ('or', 6), ('news', 6), ('were', 5), ('test', 5), ('carefully', 5), ('report', 5), ('any', 5), ('incompatibilities', 5), ('tracking', 5), ('system', 5), ('preview', 5), ('', 5), ('do', 5), ('not', 5), ('use', 5), ('production', 5), ('information', 5), ('new', 5), ('features', 5), ('other', 5), ('complete', 5), ('notes', 5), ('these', 5), ('files', 5), ('archive', 5), ('download', 5), ('sources', 5), ('windows.php.net/qa', 5), ('full', 5), ('planned', 5), ('wiki', 5), ('thank', 5), ('helping', 5), ('us', 5), ('make', 5), ('better', 5), ('3', 5), ('7.0', 4), ('more', 4), ('at', 4), ('beta', 4), ('7.1', 3), ('fixes', 3), ('7.2', 3), ('first', 3), ('released', 3), ('alpha', 3), ('popular', 2), ('7.0.28', 2), ('7.1.14', 2), ('bugfix', 2), ('7.2.2', 2), ('5.6.33', 2), ('7.1.13', 2), ('7.2.1', 2), ('7.0.27', 2), ('support', 2), ('branch', 2), ('next', 2), ('announced', 2), ('october', 2), ('third', 2), ('1', 2), ('general-purpose', 1), ('scripting', 1), ('language', 1), ('that', 1), ('especially', 1), ('suited', 1), ('web', 1), ('fast', 1), ('flexible', 1), ('pragmatic', 1), ('powers', 1), ('everything', 1), ('from', 1), ('your', 1), ('blog', 1), ('most', 1), ('websites', 1), ('world', 1), ('one', 1), ('was', 1), ('with', 1), ('included', 1), ('5.6', 1), ('marks', 1), ('end', 1), ('two', 1), ('years', 1), ('active', 1), ('period', 1), ('further', 1), ('issued', 1), ('demand', 1), ('contain', 1), ('only', 1), ('critical', 1), ('relevant', 1), ('provided', 1), ('till', 1), ('december', 1), ('3rd', 1), ('2018', 1), ('good', 1), ('time', 1), ('plan', 1), ('migration', 1), ('rc4', 1), ('fourth', 1), ('4', 1), ('26th', 1), ('rc3', 1), ('12th', 1), ('second', 1), ('14th', 1), ('september', 1), ('final', 1), ('31th', 1), ('august', 1), ('contains', 1), ('improvements', 1), ('relative', 1), ('2', 1), ('20th', 1), ('july', 1), ('older', 1), ('entries', 1), ('user', 1), ('group', 1), ('events', 1), ('special', 1), ('thanks', 1), ('social', 1), ('media', 1)]\n"
     ]
    }
   ],
   "source": [
    "print (c.most_common())"
   ]
  },
  {
   "cell_type": "code",
   "execution_count": null,
   "metadata": {},
   "outputs": [],
   "source": []
  },
  {
   "cell_type": "code",
   "execution_count": null,
   "metadata": {},
   "outputs": [],
   "source": []
  }
 ],
 "metadata": {
  "kernelspec": {
   "display_name": "Python 3",
   "language": "python",
   "name": "python3"
  },
  "language_info": {
   "codemirror_mode": {
    "name": "ipython",
    "version": 3
   },
   "file_extension": ".py",
   "mimetype": "text/x-python",
   "name": "python",
   "nbconvert_exporter": "python",
   "pygments_lexer": "ipython3",
   "version": "3.6.2"
  }
 },
 "nbformat": 4,
 "nbformat_minor": 2
}
